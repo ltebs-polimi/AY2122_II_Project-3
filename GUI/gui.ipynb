{
 "cells": [
  {
   "cell_type": "code",
   "execution_count": 19,
   "id": "a803a793",
   "metadata": {
    "pycharm": {
     "name": "#%%\n"
    }
   },
   "outputs": [],
   "source": [
    "#conda install -c anaconda pyqt"
   ]
  },
  {
   "cell_type": "code",
   "execution_count": 20,
   "id": "d0795862",
   "metadata": {
    "pycharm": {
     "name": "#%%\n"
    },
    "scrolled": false
   },
   "outputs": [],
   "source": [
    "#conda install pyqtgraph"
   ]
  },
  {
   "cell_type": "code",
   "execution_count": 21,
   "id": "506f573c",
   "metadata": {
    "pycharm": {
     "is_executing": true,
     "name": "#%%\n"
    }
   },
   "outputs": [],
   "source": [
    "#import PyQt5 as Py5\n",
    "#import numpy as NP \n",
    "#import scipy as SP \n",
    "#import sys\n",
    "#from PyQt5 import QtWidgets\n",
    "#from PyQt5.QtWidgets import QDialog, QApplication, QWidget\n",
    "#from PyQt5 import QtGui \n",
    "#from PyQt5.QtGui import QColor as Qc\n"
   ]
  },
  {
   "cell_type": "code",
   "execution_count": 22,
   "id": "c21be3c3",
   "metadata": {
    "pycharm": {
     "is_executing": true,
     "name": "#%%\n"
    }
   },
   "outputs": [],
   "source": [
    "import tkinter as tk\n",
    "#from PIL import Image, ImageTk\n",
    "import time\n"
   ]
  },
  {
   "cell_type": "code",
   "execution_count": 23,
   "id": "6039ad7b",
   "metadata": {},
   "outputs": [],
   "source": [
    "running = False\n",
    "ora = 0\n",
    "minuto = 0\n",
    "secondo = 0\n",
    "\n",
    "b = 0\n",
    "d = 0 \n",
    "r = 0\n",
    "flagb = False \n",
    "flagd = False \n",
    "flagr = False "
   ]
  },
  {
   "cell_type": "code",
   "execution_count": 24,
   "id": "bc395a43",
   "metadata": {},
   "outputs": [],
   "source": [
    "def clock():   #funzione update \n",
    "   \n",
    "    global ora, minuto, secondo\n",
    "    \n",
    "      \n",
    "    secondo = secondo + 1 \n",
    "    \n",
    "    if secondo == 60:\n",
    "            minuto += 1 \n",
    "            secondo = 0 \n",
    "        \n",
    "    if minuto == 60:\n",
    "            ora += 1 \n",
    "            minuto = 0 \n",
    "        \n",
    "    ora_stringa = f'{ora}' if ora > 9 else f'0{ora}'\n",
    "     \n",
    "    minuto_stringa = f'{minuto}' if minuto > 9 else f'0{minuto}'\n",
    "    secondo_stringa = f'{secondo}' if secondo > 9 else f'0{secondo}'\n",
    "    \n",
    "    cronometro.config(text = ora_stringa + \":\" + minuto_stringa + \":\" + secondo_stringa)\n",
    "    global update_time\n",
    "    update_time = cronometro.after(1000, clock)\n",
    "         "
   ]
  },
  {
   "cell_type": "code",
   "execution_count": 25,
   "id": "0ae1a2a6",
   "metadata": {},
   "outputs": [],
   "source": [
    "def pause():\n",
    "    global running\n",
    "    if running:\n",
    "        cronometro.after_cancel(update_time)\n",
    "        running = False"
   ]
  },
  {
   "cell_type": "code",
   "execution_count": 26,
   "id": "f7b24a05",
   "metadata": {},
   "outputs": [],
   "source": [
    "def reset():\n",
    "    global running \n",
    "    if running:\n",
    "        \n",
    "        cronometro.after_cancel(update_time)\n",
    "        running = False \n",
    "        \n",
    "    global ora, minuto, secondo \n",
    "    ora, minuto, secondo = 0, 0, 0\n",
    "    cronometro.config(text = \"00:00:00\")"
   ]
  },
  {
   "cell_type": "code",
   "execution_count": 27,
   "id": "b9062e78",
   "metadata": {
    "pycharm": {
     "name": "#%%\n"
    }
   },
   "outputs": [],
   "source": [
    "#definisco qua le funzioni che verranno azionate dai bottoni \n",
    "\n",
    "def start_acquisition():\n",
    "   \n",
    "    w.destroy()\n",
    "   \n",
    "    global running\n",
    "    if not running:\n",
    "        clock()\n",
    "        running = True \n",
    "\n",
    "\n",
    "   # global flagb \n",
    "  #  if not flagb:\n",
    "     #   tabellone()\n",
    "       # flagb = True \n",
    "        \n",
    "  #  global flagd\n",
    "  #  if not flagd:\n",
    "   #     tabellone()\n",
    "    #    flagd = True \n",
    "        \n",
    "   # global flagr\n",
    "   # if not flagr:\n",
    "    #    tabellone()\n",
    "    #    flagr = True\n",
    "    \n",
    "    w2 = tk.Canvas(window, bd =0, bg = \"#666699\", height= 80, width = 80, highlightthickness=0)\n",
    "    w2.grid(row = 20, columns = 7, padx = 180, sticky = \"W\")\n",
    "    oval2 = w2.create_oval(25,48,55,78, fill = \"red\")\n",
    "    led2 = w2.create_text(40, 35, text = \"LED\", fill= \"#660033\", font = ('Orator Std', 20, 'bold'))\n",
    "    \n",
    "    acquisition = tk.Label(window, text = \"GAME STARTED\", font = (\"Orator Std\", 40, 'bold'), fg = \"#660033\", bg = \"#666699\")\n",
    "    acquisition.grid(row = 40, columns =8, pady = 10, padx = 160, sticky = \"w\")\n",
    "\n",
    "\n"
   ]
  },
  {
   "cell_type": "code",
   "execution_count": 28,
   "id": "5f124bb6",
   "metadata": {
    "pycharm": {
     "name": "#%%\n"
    }
   },
   "outputs": [],
   "source": [
    "def stop_acquisition():\n",
    "    \n",
    "    global running\n",
    "    if running:\n",
    "        cronometro.after_cancel(update_time)\n",
    "        running = False\n",
    "\n",
    "    w3 = tk.Canvas(window, bd =0, bg = \"#666699\", height= 80, width = 80, highlightthickness=0)\n",
    "    w3.grid(row = 20, columns = 7, padx = 180, sticky = \"W\")\n",
    "    oval3 = w3.create_oval(25,48,55,78, fill = \"light green\")\n",
    "    led3 = w3.create_text(40, 35, text = \"LED\", fill= \"#660033\", font = ('Orator Std', 20, 'bold'))\n",
    "    \n",
    "    acquisition = tk.Label(window, text = \"GAME STARTED\", font = (\"Orator Std\", 40, 'bold'), fg = \"#666699\", bg = \"#666699\")\n",
    "    acquisition.grid(row = 40, columns =8, pady = 50, padx = 160, sticky = \"W\")\n",
    "\n",
    "\n",
    "    "
   ]
  },
  {
   "cell_type": "code",
   "execution_count": 29,
   "id": "fc6b9b38",
   "metadata": {},
   "outputs": [],
   "source": [
    "def reset():\n",
    "    global running \n",
    "    if running:\n",
    "        \n",
    "        cronometro.after_cancel(update_time)\n",
    "        running = False \n",
    "        \n",
    "    global ora, minuto, secondo \n",
    "    ora, minuto, secondo = 0, 0, 0\n",
    "    cronometro.config(text = \"00:00:00\")"
   ]
  },
  {
   "cell_type": "code",
   "execution_count": 30,
   "id": "3026ba06",
   "metadata": {},
   "outputs": [],
   "source": [
    "def tabellone():\n",
    "    \n",
    "    global b, d, r\n",
    "    stringa_b = f'{b}'\n",
    "    stringa_d = f'{d}'\n",
    "    stringa_r = f'{r}'\n",
    "    \n",
    "      \n",
    "    if flagb: \n",
    "        b = b + 1\n",
    "        \n",
    "    if flagd:\n",
    "        d = d + 1\n",
    "        \n",
    "    if flagr:\n",
    "        r = r + 1\n",
    "        \n",
    "        \n",
    "    punteggio_b.config(text = stringa_b)\n",
    "    global update_tabellone1\n",
    "    update_time1 = signal_case1.after(1000, tabellone)\n",
    "    \n",
    "    punteggio_d.config(text = stringa_d)\n",
    "    global update_tabellone2\n",
    "    update_time2 = signal_case2.after(1000, tabellone)\n",
    "    \n",
    "    punteggio_r.config(text = stringa_r)\n",
    "    global update_tabellone3\n",
    "    update_time3 = signal_case3.after(1000, tabellone)\n"
   ]
  },
  {
   "cell_type": "code",
   "execution_count": 31,
   "id": "ea22a5af",
   "metadata": {
    "pycharm": {
     "name": "#%%\n"
    }
   },
   "outputs": [],
   "source": [
    "window = tk.Tk() #per creare una finestra che contenga tutti i nostri altri elementi, è un widget principale \n",
    "window.geometry(\"600x600\") #larghezza per altezza \n",
    "window.title(\"Section\")\n",
    "window.resizable(False, False) #perchè non possa esserne modificata la dimensione una volta aperto\n",
    "window.configure(background = \"#666699\")\n"
   ]
  },
  {
   "cell_type": "code",
   "execution_count": 32,
   "id": "a4916a08",
   "metadata": {},
   "outputs": [],
   "source": [
    "w = tk.Canvas(window, bd =0, bg = \"#666699\", height= 80, width = 80, highlightthickness=0)\n",
    "w.grid(row = 20, columns = 7, padx = 180, sticky = \"W\")\n",
    "oval = w.create_oval(25,48,55,78, fill = \"light green\")\n",
    "led = w.create_text(40, 35, text = \"LED\", fill= \"#660033\", font = ('olivier', 20, 'bold'))\n",
    "\n",
    "acquisition = tk.Label(window, text = \"GAME STARTED\", font = (\"Orator Std\", 40, 'bold'), fg = \"#666699\", bg = \"#666699\")\n",
    "acquisition.grid(row = 40, columns =8, pady = 50, padx = 160, sticky = \"W\")\n",
    "\n",
    "\n",
    "\n",
    "\n",
    "\n"
   ]
  },
  {
   "cell_type": "code",
   "execution_count": 33,
   "id": "71efb2ac",
   "metadata": {},
   "outputs": [],
   "source": [
    "cronometro = tk.Label(window, text = \"00:00:00\", bg = \"black\", fg = \"#ffccff\", font = (\"Helvetica\", 30, 'bold'))\n",
    "cronometro.grid(row = 20, columns = 400, padx = 460, sticky = \"NE\", pady = 20)\n",
    "\n"
   ]
  },
  {
   "cell_type": "code",
   "execution_count": 34,
   "id": "5bad8fd2",
   "metadata": {},
   "outputs": [],
   "source": [
    "signal_case1 = tk.Canvas(window, bg = \"#666699\", height = 230, width = 186)\n",
    "signal_case1.grid(row = 42, columns = 7, sticky = \"w\", padx = 16)\n",
    "battuta = signal_case1.create_text(93,32, text = \"BATTUTA\", fill = \"#660033\", font = ('Orator Std', 30, 'bold'))\n",
    "#battuta = tk.Label(window, bg = \"white\", text = \"BATTUTA\", bd = 5, font = ('Orator Std', 30, 'bold'), fg = \"#660033\")\n",
    "#battuta.grid(row = 42, columns = 7, padx = 4, pady = 40)\n",
    "b = 0\n",
    "stringa_b = f'{b}'\n",
    "punteggio_b = tk.Label(signal_case1, bg = \"#666699\", text = stringa_b, fg = \"#ffccff\", font = ('Helvetica', 90, 'bold'))\n",
    "punteggio_b.grid(row=42, columns = 7, padx =70, pady = 80)\n",
    "\n",
    "signal_case2 = tk.Canvas(window, bd = 0, bg = \"#666699\", height = 230, width = 186)\n",
    "signal_case2.grid(row = 42, columns = 8, sticky = \"W\", padx = 202)\n",
    "dritto = signal_case2.create_text(93,32, text = \"DRITTO\", fill = \"#660033\", font = ('Orator Std', 30, 'bold'))\n",
    "d = 0\n",
    "stringa_d = f'{d}'\n",
    "punteggio_d = tk.Label(signal_case2, bg = \"#666699\", text = stringa_d, fg = \"#ffccff\", font = ('Helvetica', 90, 'bold'))\n",
    "punteggio_d.grid(row = 42, columns = 8, padx = 70, pady = 80)\n",
    "\n",
    "signal_case3 = tk.Canvas(window, bd = 0, bg = \"#666699\", height = 230, width = 186)\n",
    "signal_case3.grid(row = 42, columns = 9, sticky = \"W\", padx = 388)\n",
    "rovescio = signal_case3.create_text(93,32, text = \"ROVESCIO\", fill = \"#660033\", font = ('Orator Std', 30, 'bold'))\n",
    "r = 0\n",
    "stringa_r = f'{r}'\n",
    "punteggio_r = tk.Label(signal_case3, text = stringa_r, bg = \"#666699\", fg = \"#ffccff\", font = ('Helvetica', 90, 'bold'))\n",
    "punteggio_r.grid(row = 42, columns = 9, padx = 70, pady = 80)"
   ]
  },
  {
   "cell_type": "code",
   "execution_count": 35,
   "id": "d13b8372",
   "metadata": {
    "pycharm": {
     "name": "#%%\n"
    }
   },
   "outputs": [],
   "source": [
    "#aggiungiamo un secondo widget tipo un bottone e lo posizioniamo nella nostra window \n",
    "start = tk.Button(text = \"START\", command = start_acquisition, bd= 0, font = (\"Orator Std\", 30, 'bold'), fg = \"#660033\")\n",
    "start.grid(row = 20, column =0, padx = 20, pady = 20, sticky = \"NW\") #per andare a specificare la sua posizione nel widget genitore \n",
    "#padx è la spaziatura tra cose stampate lungo x\n",
    "#sticky = \"W\", \"S\", \"N\", \"E\" se vogliamo allineare le cose a sx dx ecc --> dabilanciare con padx\n",
    "\n",
    "\n",
    "stop = tk.Button( text = \" STOP \", command = stop_acquisition, bd = 0, font = (\"Orator Std\", 30, 'bold'), fg = \"#660033\")\n",
    "stop.grid(row = 21, column = 0, padx = 20, pady = 5, sticky= \"NW\")\n",
    "\n",
    "reset = tk.Button(text = \"RESET\", command = reset, bd = 0, font = (\"Orator Std\", 20, 'bold'), fg = \"#660033\")\n",
    "reset.grid(row = 21, columns = 400)\n",
    "\n",
    " \n"
   ]
  },
  {
   "cell_type": "code",
   "execution_count": 36,
   "id": "bd913504",
   "metadata": {
    "pycharm": {
     "name": "#%%\n"
    }
   },
   "outputs": [],
   "source": [
    "\n",
    "window.mainloop() #per far partire l'immagine "
   ]
  }
 ],
 "metadata": {
  "interpreter": {
   "hash": "4c0326f2196168bac32f0b9412d1f9a68e071da5e6b70c8ffc69c538dbde2d96"
  },
  "kernelspec": {
   "display_name": "Python 3 (ipykernel)",
   "language": "python",
   "name": "python3"
  },
  "language_info": {
   "codemirror_mode": {
    "name": "ipython",
    "version": 3
   },
   "file_extension": ".py",
   "mimetype": "text/x-python",
   "name": "python",
   "nbconvert_exporter": "python",
   "pygments_lexer": "ipython3",
   "version": "3.9.7"
  }
 },
 "nbformat": 4,
 "nbformat_minor": 5
}
